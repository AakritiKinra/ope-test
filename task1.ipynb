{
 "cells": [
  {
   "cell_type": "markdown",
   "metadata": {},
   "source": [
    "# OPE: Problem Representation\n",
    "This activity will help you practice with using NumPy and linear algebra for vectorization.\n",
    "\n",
    "You can assume that all indexings start at 0. In other words, the entries of a vector $x \\in \\mathbb{R}^n$ are $x_0, x_1, \\ldots, x_{n-1}$.\n",
    "\n",
    "**There is a limit on the run time of each task**. Identifying the right NumPy functions to use is necessary for passing the test case."
   ]
  },
  {
   "cell_type": "markdown",
   "metadata": {},
   "source": [
    "## Task 1:\n",
    "**Motivation**:\n",
    "\n",
    "In probability and statistics, the law of large number states that the average of the results obtained from a large number of trials will tend to become closer to the expected value as more trials are performed. Given a sequence of trial outcomes $x \\in \\mathbb R^n$, we can verify this theorem by computing the sequence of *cumulative averages*\n",
    "\n",
    "\\begin{align*}\n",
    "s_0 & = x_0 \\\\\n",
    "s_1 & = \\frac{1}{2}(x_0 + x_1) \\\\\n",
    "s_2 & = \\frac{1}{3}(x_0 + x_1 + x_2) \\\\\n",
    "\\ldots \\\\\n",
    "s_{n-1} & = \\frac{1}{n} \\sum_{i=0}^n x_i\n",
    "\\end{align*}\n",
    "\n",
    "and examining its convergence property.\n",
    "\n",
    "**Problem**:\n",
    "Suppose you are given a sequence of trial outcomes $x \\in \\mathbb R^n$, implement the function `cumulative_avg` that computes the sequence of cumulative averages $s \\in \\mathbb{R}^n$, as defined above.\n",
    "\n",
    "**Example**:\n",
    "* Input:\n",
    "```\n",
    "x = [7, 2, 6, 4, 3, 8]\n",
    "```\n",
    "* Output:\n",
    "```\n",
    "s[0] = 7\n",
    "s[1] = (7+2)/2 = 4.5\n",
    "s[2] = (7+2+6)/3 = 5\n",
    "s[3] = (7+2+6+4)/4 = 4.75\n",
    "s[4] = (7+2+6+4+3)/5 = 4.4\n",
    "s[5] = (7+2+6+4+3+8)/6 = 5\n",
    "```\n",
    "\n",
    "**Note**:\n",
    "* You can only use functions from the Python standard library, NumPy or Scipy.\n",
    "* You do not need to implement any subroutine on your own. Instead, search the NumPy library documentation to identify the desired functions that can be used in this task.\n",
    "* Do not use any loop."
   ]
  },
  {
   "cell_type": "code",
   "execution_count": null,
   "metadata": {},
   "outputs": [],
   "source": [
    "def cumulative_avg(x):\n",
    "    # your implementation"
   ]
  }
 ],
 "metadata": {
  "kernelspec": {
   "display_name": "Python 3",
   "language": "python",
   "name": "python3"
  },
  "language_info": {
   "codemirror_mode": {
    "name": "ipython",
    "version": 3
   },
   "file_extension": ".py",
   "mimetype": "text/x-python",
   "name": "python",
   "nbconvert_exporter": "python",
   "pygments_lexer": "ipython3",
   "version": "3.7.6"
  }
 },
 "nbformat": 4,
 "nbformat_minor": 4
}
