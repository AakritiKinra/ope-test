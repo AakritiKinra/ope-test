{
 "cells": [
  {
   "cell_type": "markdown",
   "metadata": {},
   "source": [
    "# OPE: Problem Representation\n",
    "This activity will allow you to practice with using NumPy and linear algebra for vectorization.\n",
    "\n",
    "In this activity, you can assume that all indexings start at 0. In other words, the entries of a vector $x \\in \\mathbb{R}^n$ are $x_0, x_1, \\ldots, x_{n-1}$."
   ]
  },
  {
   "cell_type": "code",
   "execution_count": 1,
   "metadata": {},
   "outputs": [],
   "source": [
    "import numpy as np"
   ]
  },
  {
   "cell_type": "markdown",
   "metadata": {},
   "source": [
    "## Task 1:\n",
    "### Learning Objectives\n",
    "1. Search the NumPy library documentation to identify the desired function.\n",
    "1. Apply elementwise vector operation in place of for-loops.\n",
    "\n",
    "### Pretest\n",
    "1. Which of the followings is the fastest way to create the NumPy array `[1, 2, 3, 4, ..., 9998, 9999]`?\n",
    "    * `np.array(range(1, 10000))`\n",
    "    * `np.array([i for i in range(1, 10000)])`\n",
    "    * `np.arange(1, 10000)` (correct)\n",
    "    * `np.range(1, 10000)`\n",
    "\n",
    "1. Given two NumPy arrays `X` and `Y` (which may be multi-dimensional matrices), which of the following conditions is necessary to compute the sum `X + Y`?\n",
    "    * `X` and `Y` have the same shape.\n",
    "    * `X` and `Y` have the same shape after appropriate broadcasting. (correct)\n",
    "    * `X` and `Y` have the same data type.\n",
    "    * None of the above.\n",
    "\n",
    "\n",
    "### Posttest\n",
    "1. Which of the followings is the fastest way to create the NumPy array `[9999, 9998, 9997, 9996, ..., 2, 1]`?\n",
    "    * `np.array(range(9999, 0, -1))`\n",
    "    * `np.array([10000-i for i in range(1, 10000)])`\n",
    "    * `np.arange(9999, 0, -1)` (correct)\n",
    "    * `np.range(9999, 0, -1)`\n",
    "    \n",
    "1. Given two 2D NumPy arrays `X` and `Y`, which of the following conditions is necessary to compute the matrix product `X @ Y`?\n",
    "    * `X` and `Y` have the same shape.\n",
    "    * `X` and `Y` have the same data type.\n",
    "    * `X.shape[0] == Y.shape[1]`\n",
    "    * `X.shape[1] == Y.shape[0]` (correct)\n",
    "    "
   ]
  },
  {
   "cell_type": "markdown",
   "metadata": {},
   "source": [
    "### Coding assignment\n",
    "In probability and statistics, the law of large number states that the average of the results obtained from a large number of trials will tend to become closer to the expected value as more trials are performed. Given a sequence of trial outcomes $x \\in \\mathbb R^n$, we can verify this theorem by computing the sequence of *cumulative averages*\n",
    "\n",
    "\\begin{align*}\n",
    "s_0 & = x_0 \\\\\n",
    "s_1 & = \\frac{1}{2}(x_0 + x_1) \\\\\n",
    "s_2 & = \\frac{1}{3}(x_0 + x_1 + x_2) \\\\\n",
    "\\ldots \\\\\n",
    "s_{n-1} & = \\frac{1}{n} \\sum_{i=0}^n x_i\n",
    "\\end{align*}\n",
    "\n",
    "and examining its convergence property.\n",
    "\n",
    "**Problem**:\n",
    "Suppose you are given a sequence of trial outcomes $x \\in \\mathbb R^n$, implement the function `cumulative_avg` that computes the sequence of cumulative averages $s \\in \\mathbb{R}^n$, as defined above.\n",
    "\n",
    "**Example**:\n",
    "* Input:\n",
    "```\n",
    "x = [7, 2, 6, 4, 3, 8]\n",
    "```\n",
    "* Output:\n",
    "```\n",
    "s[0] = 7\n",
    "s[1] = (7+2)/2 = 4.5\n",
    "s[2] = (7+2+6)/3 = 5\n",
    "s[3] = (7+2+6+4)/4 = 4.75\n",
    "s[4] = (7+2+6+4+3)/5 = 4.4\n",
    "s[5] = (7+2+6+4+3+8)/6 = 5\n",
    "```\n",
    "\n",
    "**Note**:\n",
    "* You can only use functions from the Python standard library, NumPy or Scipy.\n",
    "* Do not use any loop."
   ]
  },
  {
   "cell_type": "markdown",
   "metadata": {},
   "source": [
    "**Solution 1 (Using `np.cumsum`)**:"
   ]
  },
  {
   "cell_type": "code",
   "execution_count": 2,
   "metadata": {},
   "outputs": [
    {
     "data": {
      "text/plain": [
       "array([7.        , 7.        , 7.        , 6.75      , 5.4       ,\n",
       "       5.16666667, 4.42857143, 4.        , 3.55555556, 3.4       ])"
      ]
     },
     "execution_count": 2,
     "metadata": {},
     "output_type": "execute_result"
    }
   ],
   "source": [
    "import numpy as np\n",
    "\n",
    "def cumulative_avg(x):\n",
    "    return np.cumsum(x) / np.arange(1, len(x) + 1)\n",
    "\n",
    "x = np.array([7, 7, 7, 6, 0, 4, 0, 1, 0, 2])\n",
    "cumulative_avg(x)"
   ]
  },
  {
   "cell_type": "code",
   "execution_count": 3,
   "metadata": {},
   "outputs": [
    {
     "data": {
      "text/plain": [
       "array([13.        , 15.5       , 17.33333333, ..., 19.54890978,\n",
       "       19.54835484, 19.5488    ])"
      ]
     },
     "execution_count": 3,
     "metadata": {},
     "output_type": "execute_result"
    }
   ],
   "source": [
    "np.random.seed(1725)\n",
    "x = np.random.randint(low = 12, high = 28, size = 10000)\n",
    "cumulative_avg(x)"
   ]
  },
  {
   "cell_type": "markdown",
   "metadata": {},
   "source": [
    "## Task 2:\n",
    "### Learning Objectives\n",
    "1. Apply the dot product in summing over the elements in a vector or matrix.\n",
    "1. Subset elements from a list-like collection based on a given indexing pattern.\n",
    "\n",
    "### Pretest\n",
    "1. Given a 1D NumPy array `x`, which of the following operations is equivalent to `x.sum()`?\n",
    "    * `x @ x.T`\n",
    "    * `x.T @ x`\n",
    "    * `x * np.ones(x.shape)`\n",
    "    * `x.dot(np.ones(x.shape))` (correct)\n",
    "\n",
    "1. Given `x = np.arange(10)`, what is the result of `x[2:9:3]`?\n",
    "    * `[2, 9, 3]`\n",
    "    * `[2, 5, 8]` (correct)\n",
    "    * `[3, 5, 7]`\n",
    "    * `[3, 2, 9]`\n",
    "\n",
    "### Posttest\n",
    "1. Given a 2D NumPy array `X`, which of the following operations is equivalent to `X.sum(axis = 0)`?\n",
    "    * `X @ np.ones(X.shape[1])` (correct)\n",
    "    * `X * np.ones(X.shape[1])`\n",
    "    * `X.sum(axis = 1)`\n",
    "    * `(X @ X.T).sum()`\n",
    "\n",
    "1. Given `x = np.arange(15)`, what is the result of `x[1:10:4]`?\n",
    "    * `[3, 4, 5]`\n",
    "    * `[4, 5, 6]`\n",
    "    * `[1, 10, 4]`\n",
    "    * `[1, 5, 9]` (correct)"
   ]
  },
  {
   "cell_type": "markdown",
   "metadata": {},
   "source": [
    "### Coding assignment\n",
    "An important structure in calculus, which also has many uses in machine learning, is the alternating sum $\\sum_i (-1)^i a_i$, where the entries alternate in sign between $1$ and $-1$. For example, you have likely seen the following Taylor expansion from a calculus class:\n",
    "$$\\sin x = \\sum_{i=0}^\\infty (-1)^i \\frac{x^{2i+1}}{(2i+1)!}.$$\n",
    "In this task, let's see how a general alternating sum can be vectorized.\n",
    "\n",
    "**Problem**:\n",
    "\n",
    "Given two vectors $x, y \\in \\mathbb{R}^n$, implement the function `alt_sum` that computes the following expression:\n",
    "$$S = \\sum_{i=0}^{n-1} (-1)^{i} x_i y_i = x_0y_0 - x_1y_1 + x_2y_2 - x_3y_3 + \\ldots$$\n",
    "\n",
    "**Example**:\n",
    "* Input: `x = [2, 3, 5, 1], y = [9, 2, -2, 3]`\n",
    "* Output: `2*9 - 3*2 + 5*(-2) - 1*3 = -1`.\n",
    "\n",
    "**Note**:\n",
    "* You can only use functions from the Python standard library, NumPy or Scipy.\n",
    "* Do not use any loop."
   ]
  },
  {
   "cell_type": "markdown",
   "metadata": {},
   "source": [
    "**Solution 1 (Dot product with alternating 1s and -1s)**:"
   ]
  },
  {
   "cell_type": "code",
   "execution_count": 4,
   "metadata": {
    "scrolled": true
   },
   "outputs": [
    {
     "data": {
      "text/plain": [
       "-1"
      ]
     },
     "execution_count": 4,
     "metadata": {},
     "output_type": "execute_result"
    }
   ],
   "source": [
    "def alt_sum1(x, y):\n",
    "    # construct the array [1, -1, 1, -1, 1, -1, ...]\n",
    "    alt_plus_minus = np.resize([1, -1], len(x))\n",
    "    return (x * y).dot(alt_plus_minus)\n",
    "\n",
    "x, y = np.array([2, 3, 5, 1]), np.array([9, 2, -2, 3])\n",
    "alt_sum1(x, y)"
   ]
  },
  {
   "cell_type": "code",
   "execution_count": 5,
   "metadata": {},
   "outputs": [
    {
     "data": {
      "text/plain": [
       "True"
      ]
     },
     "execution_count": 5,
     "metadata": {},
     "output_type": "execute_result"
    }
   ],
   "source": [
    "type(np.array([1, 2, 3])) == np.ndarray"
   ]
  },
  {
   "cell_type": "markdown",
   "metadata": {},
   "source": [
    "**Solution 2 (Slicing index)**:"
   ]
  },
  {
   "cell_type": "code",
   "execution_count": 6,
   "metadata": {},
   "outputs": [
    {
     "data": {
      "text/plain": [
       "-1"
      ]
     },
     "execution_count": 6,
     "metadata": {},
     "output_type": "execute_result"
    }
   ],
   "source": [
    "def alt_sum2(x, y):\n",
    "    n = len(x)\n",
    "    # compute (x0y0 + x2y2 + x4y4 + ...) - (x1y1 + x3y3 + ...) \n",
    "    return x[::2].dot(y[::2]) - x[1::2].dot(y[1::2])\n",
    "\n",
    "alt_sum2(x, y)"
   ]
  },
  {
   "cell_type": "code",
   "execution_count": 7,
   "metadata": {},
   "outputs": [
    {
     "name": "stdout",
     "output_type": "stream",
     "text": [
      "-11717\n"
     ]
    }
   ],
   "source": [
    "low, high, size, seed = 30, 76, 2000, 899\n",
    "np.random.seed(seed)\n",
    "X = np.random.randint(low = low, high = high, size = (2, size))\n",
    "print(alt_sum2(X[0], X[1]))"
   ]
  },
  {
   "cell_type": "markdown",
   "metadata": {},
   "source": [
    "## Task 3\n",
    "\n",
    "### Learning Objectives\n",
    "1. Use one-hot encoding matrix as binary mask.\n",
    "1. Subset elements with integer array indexing in multiple axes simultaneously.\n",
    "\n",
    "### Pretest\n",
    "1. Given `X = np.array([[1, 2, 3, 4], [5, 6, 7, 8], [9, 10, 11, 12]])` and `y = [2, 1, 2]`, let `Y` be the one-hot encoding of `y` with shape `3x4`. Which non-zero entries are present in the elementwise multiplication between `X` and `Y`?\n",
    "     * `2, 5, 10`\n",
    "     * `3, 6, 11`\n",
    "     * `3, 7, 12`\n",
    "     * `2, 1, 2`\n",
    "\n",
    "1. Given a 2D NumPy array `X` with shape 10x10 and a matrix `Y = np.array([[2,5], [3,3], [1,2]]`, we want to construct a vector `v = np.array([X[2,5], X[3,3], X[1,2]])`. How may `v` be constructed from `X` and `Y`?\n",
    "    * `X[Y[0], Y[1]]`\n",
    "    * `X[Y[:,0], Y[:,1]]` (correct)\n",
    "    * `X[Y, Y]`\n",
    "    * `X[Y]`\n",
    "\n",
    "### Posttest\n",
    "1. Given `X = np.array([[1, 2, 3, 4], [5, 6, 7, 8], [9, 10, 11, 12]])` and `y = [0, 3, 3]`, let `Y` be the one-hot encoding of `y` with shape `3x4`. Which non-zero entries are present in the elementwise multiplication between `X` and `Y`?\n",
    "    * 4, 7, 11\n",
    "    * 1, 8, 12 (correct)\n",
    "    * 1, 7, 11\n",
    "    * 4, 5, 9\n",
    "\n",
    "1. Given a 2D NumPy array `X` with shape 10x10 and a matrix `Y = np.array([2, 3, 1], [5, 3, 2])`, we want to construct a vector `v = np.array([X[2,5], X[3,3], X[1,2]])`. How may `v` be constructed from `X` and `Y`?\n",
    "    * `X[Y[0], Y[1]]` (correct)\n",
    "    * `X[Y[:,0], Y[:,1]]`\n",
    "    * `X[Y, Y]`\n",
    "    * `X[Y]`"
   ]
  },
  {
   "cell_type": "markdown",
   "metadata": {},
   "source": [
    "### Coding Assignment\n",
    "Assuming there are $k$ possible labels $\\{0, 1, \\ldots, k-1\\}$, a logistic regression model can take an input data point $x \\in \\mathbb{R}^n$ and output a hypothesis vector $h \\in \\mathbb{R}^k$, where $h_j$ is the probability that the label of $x$ is $j$.\n",
    "\n",
    "If the ground truth label of $x$ is also known (let's call it $y$), we can measure how good a model's prediction is by computing $\\mathcal L(h, y) = -\\log(h_y)$, which is called the *logistic loss*. For example, let's say there are two classes: 0 (dog) and 1 (cat). If the input data is a cat image (so $y = 1$), a model that outputs $h = (0.3, 0.7)$ would be better (have lower loss) than a model that outputs $h' = (0.5, 0.5)$, because \n",
    "$$-\\log(h_y) = -\\log(0.7) < -\\log(0.5) = -\\log(h'_y).$$\n",
    "\n",
    "Typically there are not one but $n$ data points, so we can evaluate a model by computing its average loss across all data points. Let's implement this procedure.\n",
    "\n",
    "**Problem**:\n",
    "\n",
    "Assume you are given a hypothesis matrix $H \\in \\mathbb{R}^{n \\times k}$, where each row $H_i$ is the hypothesis vector for the $i$-th data point, and a label vector $y \\in \\mathbb\\{0, 1, \\ldots, k-1\\}^n$, where $y_i$ is the ground truth label of the $i$-th data point. Implement the function `logistic_loss` that computes the average logistic loss across all the data points:\n",
    "$$L = -\\frac{1}{n} \\sum_{i=0}^{n-1} \\log(H_{i,y_i}).$$\n",
    "\n",
    "**Example**:\n",
    "* Input: `H = [[0.1, 0.2, 0.7], [0.3, 0.4, 0.3], [0.5, 0.4, 0.1]], y = [1, 1, 0]`\n",
    "* Output: \n",
    "```\n",
    "    -1/3 * ( log(H[0,y[0]]) + log(H[1, y[1]]) + log(H[2, y[2]]) ) \n",
    "    = -1/3 * ( log(H[0,1]) + log(H[1,1]) + log(H[2,0]) )\n",
    "    = -1/3 * ( log(0.2) + log(0.4) + log(0.5) )\n",
    "    = 1.0729586\n",
    "```\n",
    "\n",
    "\n",
    "**Note**:\n",
    "* You can only use functions from the Python standard library, NumPy or Scipy.\n",
    "* Do not use any loop."
   ]
  },
  {
   "cell_type": "markdown",
   "metadata": {},
   "source": [
    "**Solution 1 (NumPy integer array indexing)**:"
   ]
  },
  {
   "cell_type": "code",
   "execution_count": 8,
   "metadata": {},
   "outputs": [
    {
     "data": {
      "text/plain": [
       "1.0729586082894003"
      ]
     },
     "execution_count": 8,
     "metadata": {},
     "output_type": "execute_result"
    }
   ],
   "source": [
    "def logistic_loss1(H, y):\n",
    "    n = len(y)\n",
    "    return -np.log(H[np.arange(n), y]).sum() / n\n",
    "\n",
    "H = np.array([[0.1, 0.2, 0.7], [0.3, 0.4, 0.3], [0.5, 0.4, 0.1]])\n",
    "y = np.array([1, 1, 0])\n",
    "logistic_loss1(H, y)"
   ]
  },
  {
   "cell_type": "markdown",
   "metadata": {},
   "source": [
    "**Solution 2 (One-hot encoding + Elementwise matrix mult)**:"
   ]
  },
  {
   "cell_type": "code",
   "execution_count": 9,
   "metadata": {},
   "outputs": [
    {
     "data": {
      "text/plain": [
       "1.0729586082894003"
      ]
     },
     "execution_count": 9,
     "metadata": {},
     "output_type": "execute_result"
    }
   ],
   "source": [
    "def logistic_loss2(h, y):\n",
    "    k, n = H.shape[1], len(y)\n",
    "    Y_onehot = np.eye(k)[y]\n",
    "    return -(np.log(H) * Y_onehot).sum() / n\n",
    "\n",
    "logistic_loss2(H, y)"
   ]
  },
  {
   "cell_type": "code",
   "execution_count": 10,
   "metadata": {},
   "outputs": [
    {
     "name": "stdout",
     "output_type": "stream",
     "text": [
      "7.8231 7.82310281129308\n"
     ]
    }
   ],
   "source": [
    "low, high, row, col, seed = 1, 11, 1000, 2000, 432\n",
    "np.random.seed(seed)\n",
    "H = np.random.randint(low = low, high = high, size = (row, col)).astype(float)\n",
    "H /= H.sum(axis = 1)[:,None]\n",
    "y = np.random.choice(np.arange(H.shape[1]), size = H.shape[0])\n",
    "output = logistic_loss1(H, y)\n",
    "print(round(output, 4), output)"
   ]
  },
  {
   "cell_type": "markdown",
   "metadata": {},
   "source": [
    "## Task 4\n",
    "\n",
    "### Learning Objectives\n",
    "1. Construct multi-dimensional binary mask to extract elements from a matrix.\n",
    "1. Subset elements with index slicing in multiple axes simultaneously.\n",
    "\n",
    "### Pretest\n",
    "1. Given a 2D NumPy array `X` with with `n` rows and `n` columns, we want to construct a matrix `Y` with the same shape, where `Y[i,j] = X[i,j] * (i == j)`. In other words, `Y` retains the elements in the main diagonal of `X` (e.g., `X[0,0], X[1,1]`) and transforms the rest to 0. Which of the following operations can construct `Y` from `X`?\n",
    "    * `X[np.arange(n), np.arange(n)]`\n",
    "    * `X @ np.eye(n)`\n",
    "    * `X * np.eye(n)` (correct)\n",
    "    * `np.diag(X)`\n",
    "\n",
    "1. Given a 2D NumPy array `X` with `2*m` rows and `2*n` columns, we want to construct a matrix `Y` with `m` rows and `n` columns, where `Y[i, j] = X[2*i, 2*j]`. In other words, `Y` contains only the entries in `X` with even row and column indexes. Which of the following operations can construct `Y` from `X`?\n",
    "    * `X[:2, :2]`\n",
    "    * `X[::2, ::2]` (correct)\n",
    "    * `X[np.arange(2*n), np.arange(2*n)]`\n",
    "    * `X[np.arange(n)//2, np.arange(n)//2]`\n",
    "    \n",
    "### Posttest\n",
    "1. Given a 2D NumPy array `X` with `n` rows and `n` columns, we want to construct a matrix `Y` with the same shape, where `Y[i, j] = X[i, j] * (i != j)`. In other words, `Y` transforms every element in the main diagonal of `X` (e.g., `X[0,0], X[1,1]`) to 0 and retains the rest. Which of the following operations can construct `Y` from `X`?\n",
    "    * `X[np.arange(n), np.arange(n)]`\n",
    "    * `X * (1 - np.eye(n))` (correct)\n",
    "    * `1 - (X * np.eye(n))`\n",
    "    * `1 - np.diag(X)`\n",
    "    \n",
    "1. Given a 2D NumPy array `X` with `2*m` rows and `2*n` columns, we want to construct a matrix `Y` with `m` rows and `n` columns, where `Y[i, j] = X[2*i+1, 2*j+1]`. In other words, `Y` contains only the entries in `X` with odd row and column indexes. Which of the following operations can construct `Y` from `X`?\n",
    "    * `X[1::2, 1::2]` (correct)\n",
    "    * `X[1:2, 1:2]`\n",
    "    * `X[np.arange(2*n-1), np.arange(2*n-1)]`\n",
    "    * `X[np.arange(n)//2, np.arange(n)//2]`"
   ]
  },
  {
   "cell_type": "markdown",
   "metadata": {},
   "source": [
    "### Coding Assignment\n",
    "While Numpy functions allow us to work on the entire input matrix, in many cases we only want to deal with a subset of the input (but still in a vectorized manner). Sometimes this is straightforward -- for example, getting the first 5 columns of `X` is just `X[,:5]`. Other times, the subset conditioning may be more involved. Let's see an example of this case.\n",
    "\n",
    "**Problem**:\n",
    "\n",
    "Given a matrix $X \\in \\mathbb{R}^{m \\times n}$, implement the function `subset_sum` that computes the expression\n",
    "$$S = \\sum_{i=0}^{m-1} \\sum_{j=0}^{n-1} \\mathbb{1}(3 \\mid i+j) \\times X_{ij}.$$\n",
    "where $\\mathbb{1}(3 \\mid i+j)$ returns $1$ if $i + j$ is divisible by $3$, and 0 otherwise. In other words, $S$ is the sum of all the entries $X_{ij}$ where $i+j$ is a multiple of 3. \n",
    "\n",
    "**Example**:\n",
    "* Input: `X = [[1, 2, 3, 4], [5, 6, 7, 8], [9, 10, 11, 12]]`\n",
    "* Output: `X[0,0] + X[0,3] + X[1,2] + X[2,1] = 1 + 4 + 7 + 10 = 22`\n",
    "\n",
    "**Note**:\n",
    "* You can only use functions from the Python standard library, NumPy or Scipy.\n",
    "* Do not use any loop."
   ]
  },
  {
   "cell_type": "markdown",
   "metadata": {},
   "source": [
    "**Solution 1 (Binary matrix mask)**:"
   ]
  },
  {
   "cell_type": "code",
   "execution_count": 11,
   "metadata": {},
   "outputs": [
    {
     "data": {
      "text/plain": [
       "array([[-0.0266143 , -0.40868464, -1.84559579],\n",
       "       [-0.74881028, -1.7035879 ,  1.27307924],\n",
       "       [-0.30061987,  1.20460603, -0.2598243 ],\n",
       "       [ 0.69729414,  1.4788428 ,  0.06015684],\n",
       "       [ 0.66205409, -0.0668761 ,  0.47951586]])"
      ]
     },
     "execution_count": 11,
     "metadata": {},
     "output_type": "execute_result"
    }
   ],
   "source": [
    "np.random.normal(size = (5, 3))"
   ]
  },
  {
   "cell_type": "code",
   "execution_count": 12,
   "metadata": {},
   "outputs": [
    {
     "data": {
      "text/plain": [
       "22"
      ]
     },
     "execution_count": 12,
     "metadata": {},
     "output_type": "execute_result"
    }
   ],
   "source": [
    "def subset_sum1(X):\n",
    "    m, n = X.shape\n",
    "    mask = np.add.outer(np.arange(m), np.arange(n)) % 3 == 0\n",
    "    return (X * mask).sum()\n",
    "\n",
    "X = np.array([[1, 2, 3, 4], [5, 6, 7, 8], [9, 10, 11, 12]])\n",
    "subset_sum1(X)"
   ]
  },
  {
   "cell_type": "markdown",
   "metadata": {},
   "source": [
    "**Solution 2 (Slicing index)**:"
   ]
  },
  {
   "cell_type": "code",
   "execution_count": 13,
   "metadata": {},
   "outputs": [
    {
     "data": {
      "text/plain": [
       "22"
      ]
     },
     "execution_count": 13,
     "metadata": {},
     "output_type": "execute_result"
    }
   ],
   "source": [
    "def subset_sum2(X):\n",
    "    return X[::3, ::3].sum() + X[1::3, 2::3].sum() + X[2::3, 1::3].sum()\n",
    "    \n",
    "subset_sum2(X)"
   ]
  },
  {
   "cell_type": "code",
   "execution_count": 14,
   "metadata": {},
   "outputs": [
    {
     "name": "stdout",
     "output_type": "stream",
     "text": [
      "3417536\n"
     ]
    }
   ],
   "source": [
    "low, high, row, col, seed = 17, 25, 5000, 100, 5555\n",
    "np.random.seed(seed)\n",
    "X = np.random.randint(low = low, high = high, size = (row, col))\n",
    "print(subset_sum2(X))"
   ]
  }
 ],
 "metadata": {
  "kernelspec": {
   "display_name": "Python 3",
   "language": "python",
   "name": "python3"
  },
  "language_info": {
   "codemirror_mode": {
    "name": "ipython",
    "version": 3
   },
   "file_extension": ".py",
   "mimetype": "text/x-python",
   "name": "python",
   "nbconvert_exporter": "python",
   "pygments_lexer": "ipython3",
   "version": "3.7.6"
  }
 },
 "nbformat": 4,
 "nbformat_minor": 4
}
